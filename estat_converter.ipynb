{
 "cells": [
  {
   "cell_type": "markdown",
   "metadata": {},
   "source": [
    "# e-stat File converter \n",
    "##### GIS_workshop_0425 版\n",
    "---\n",
    "- 統計データ加工 (txt_to_xlsx)\n",
    "- 統計データ結合 (statistics_merge) ※GISでもできます\n",
    "- 境界データ結合 (boundary_merge) ※GISでもできます\n",
    "---"
   ]
  },
  {
   "cell_type": "code",
   "execution_count": 2,
   "metadata": {},
   "outputs": [],
   "source": [
    "import pandas as pd\n",
    "import numpy as np\n",
    "import geopandas\n",
    "import glob\n",
    "import os\n",
    "#前提モジュール\n"
   ]
  },
  {
   "cell_type": "markdown",
   "metadata": {},
   "source": [
    "### **・txt_to_xlsx (統計データ加工コード)**"
   ]
  },
  {
   "cell_type": "markdown",
   "metadata": {},
   "source": [
    "※実行する前に・・・統計データファイル内に「txt_to_xlsx_convert」用のファイルを作りましょう。(その中のファイルを加工してくれます)\n",
    "\n",
    "---"
   ]
  },
  {
   "cell_type": "code",
   "execution_count": 3,
   "metadata": {},
   "outputs": [
    {
     "name": "stdout",
     "output_type": "stream",
     "text": [
      "['r04_4mesh_5134']\n"
     ]
    }
   ],
   "source": [
    "txt_path = \"./txt_to_xlsx_convert/*txt\"\n",
    "txt_df_list = [os.path.splitext(os.path.basename(file))[0] for file in glob.glob(txt_path)]\n",
    "print(txt_df_list) #ファイルがすべて入っているか確認しよう\n",
    "\n",
    "#確認出来たら下のセルを実行しよう\n"
   ]
  },
  {
   "cell_type": "code",
   "execution_count": 7,
   "metadata": {},
   "outputs": [
    {
     "name": "stdout",
     "output_type": "stream",
     "text": [
      "r04_4mesh_5134.xlsx を作成しました\n"
     ]
    }
   ],
   "source": [
    "for file_name in txt_df_list:\n",
    "    df = pd.read_csv(f\"./txt_to_xlsx_convert/{file_name}.txt\",sep=',', encoding='shift_jis')\n",
    "    df_nan_name_list = []\n",
    "    for k in range(4):\n",
    "        df_nan_name_list.append(df.columns[k]) #前4列の列名を1つ下におろす作業\n",
    "    df.columns = df.iloc[0]\n",
    "    df = df.drop(index=0).reset_index(drop=True)\n",
    "    df = df.rename_axis(None, axis=1)\n",
    "    for i in range(len(df_nan_name_list)):\n",
    "        df = df.rename(columns={df.columns[i]: df_nan_name_list[i]})\n",
    "    df.columns = df.columns.str.replace('　', '')\n",
    "    df = df[df['HTKSYORI'] != 2] #HTKSYORIが2の列、GASSAN列を削除\n",
    "    df = df.drop(columns=['GASSAN','HTKSAKI'])\n",
    "    df['KEY_CODE'] = df['KEY_CODE'].astype(int)\n",
    "    df['KEY_CODE'] = df['KEY_CODE'].astype(str)\n",
    "    df.replace('*', 0, inplace=True)\n",
    "    for column in df.columns:\n",
    "        if column != 'KEY_CODE':\n",
    "            df[column] = pd.to_numeric(df[column], errors='coerce') #KEY_CODE以外を数値型に変換\n",
    "    df.to_excel(f'./txt_to_xlsx_convert/{file_name}.xlsx', index=False)\n",
    "    print(f\"{file_name}.xlsx を作成しました\")\n",
    "#保存したものは統計データに入れておきましょう\n"
   ]
  },
  {
   "cell_type": "markdown",
   "metadata": {},
   "source": [
    "---"
   ]
  },
  {
   "cell_type": "code",
   "execution_count": null,
   "metadata": {},
   "outputs": [],
   "source": []
  }
 ],
 "metadata": {
  "kernelspec": {
   "display_name": "gis_workshop.env",
   "language": "python",
   "name": "python3"
  },
  "language_info": {
   "codemirror_mode": {
    "name": "ipython",
    "version": 3
   },
   "file_extension": ".py",
   "mimetype": "text/x-python",
   "name": "python",
   "nbconvert_exporter": "python",
   "pygments_lexer": "ipython3",
   "version": "3.12.2"
  }
 },
 "nbformat": 4,
 "nbformat_minor": 2
}
