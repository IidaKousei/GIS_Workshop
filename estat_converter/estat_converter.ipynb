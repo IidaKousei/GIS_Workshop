{
 "cells": [
  {
   "cell_type": "markdown",
   "metadata": {},
   "source": [
    "# e-stat File converter \n",
    "##### GIS_workshop_0425 版\n",
    "---\n",
    "- ①統計データ加工 (txt_to_xlsx)\n",
    "- ②統計データ結合 (statistics_merge) ※GISでもできます\n",
    "---\n",
    "始める前にimportしましょう↓"
   ]
  },
  {
   "cell_type": "code",
   "execution_count": null,
   "metadata": {},
   "outputs": [],
   "source": [
    "import pandas as pd\n",
    "import glob\n",
    "import os\n",
    "import zipfile\n",
    "#前提モジュール\n"
   ]
  },
  {
   "cell_type": "markdown",
   "metadata": {},
   "source": [
    "### **・①txt_to_xlsx (統計データ加工コード)**"
   ]
  },
  {
   "cell_type": "markdown",
   "metadata": {},
   "source": [
    "☆使い方☆<br>\n",
    "① 実行する前に・・・当ipynbの直下に「txt_to_xlsx_convert」用のファイルを作りましょう。(その中のファイルを加工してくれます)<br>\n",
    "② estat統計メッシュデータの「人口及び世帯」のみ対応しています<br>\n",
    "③ ダウンロードしたzipファイルから、名前を変えずにconvert用のファイルに入れてください<br>\n",
    "④ 下のコードを実行してください！\n",
    "\n",
    "---\n",
    "↓このセルから実行↓"
   ]
  },
  {
   "cell_type": "code",
   "execution_count": null,
   "metadata": {},
   "outputs": [],
   "source": [
    "zip_path = \"./txt_to_xlsx_convert/*zip\" #パスでエラーが出たらここを変えてください\n",
    "convert_path = \"./txt_to_xlsx_convert\"\n",
    "zip_df_list = [os.path.splitext(os.path.basename(file))[0] for file in glob.glob(zip_path)]\n",
    "if len(zip_df_list) == 0:\n",
    "    print(\"zipファイルが存在しません\")\n",
    "else:\n",
    "    print(zip_df_list) #ファイルがすべて入っているか確認しよう\n",
    "\n",
    "#確認出来たら下のセルを実行しよう\n"
   ]
  },
  {
   "cell_type": "code",
   "execution_count": null,
   "metadata": {},
   "outputs": [],
   "source": [
    "year = input(\"西暦何年のデータですか？\")\n",
    "mesh_num = input(\"何次メッシュですか？(メッシュでない場合は空白で)\")\n",
    "for file_name in zip_df_list:\n",
    "    with zipfile.ZipFile(f\"{convert_path}/{file_name}.zip\", 'r') as zip_ref:\n",
    "        zip_ref.extractall(convert_path)\n",
    "    df = pd.read_csv(f\"{convert_path}/{file_name}.txt\",sep=',', encoding='shift_jis')\n",
    "    df_nan_name_list = []\n",
    "    for k in range(4):\n",
    "        df_nan_name_list.append(df.columns[k]) #前4列の列名を1つ下におろす作業\n",
    "    df.columns = df.iloc[0]\n",
    "    df = df.drop(index=0).reset_index(drop=True)\n",
    "    df = df.rename_axis(None, axis=1)\n",
    "    for i in range(len(df_nan_name_list)):\n",
    "        df = df.rename(columns={df.columns[i]: df_nan_name_list[i]})\n",
    "    df.columns = df.columns.str.replace('　', '')\n",
    "    df = df[df['HTKSYORI'] != 2] #HTKSYORIが2の列、GASSAN列を削除\n",
    "    df = df.drop(columns=['GASSAN','HTKSAKI'])\n",
    "    df['KEY_CODE'] = df['KEY_CODE'].astype(int)\n",
    "    df['KEY_CODE'] = df['KEY_CODE'].astype(str)\n",
    "    df.replace('*', 0, inplace=True)\n",
    "    for column in df.columns:\n",
    "        if column != 'KEY_CODE':\n",
    "            df[column] = pd.to_numeric(df[column], errors='coerce') #KEY_CODE以外を数値型に変換\n",
    "    df.to_excel(f'{convert_path}/{year}_{mesh_num}mesh_jinko_{file_name[-4:]}.xlsx', index=False)\n",
    "    print(f\"・{file_name}.xlsx を作成しました\")\n",
    "    os.remove(f\"{convert_path}/{file_name}.zip\")\n",
    "    os.remove(f\"{convert_path}/{file_name}.txt\")\n",
    "#保存したものは統計データに入れておきましょう\n",
    "print(\"全ファイル変換完了しました！\")\n"
   ]
  },
  {
   "cell_type": "markdown",
   "metadata": {},
   "source": [
    "---"
   ]
  },
  {
   "cell_type": "markdown",
   "metadata": {},
   "source": [
    "### **・②statistics_merge (統計データ結合コード)**\n",
    "\n",
    "※実行する前に・・・当ipynbの直下に「statistics_merge」用のファイルを作りましょう。(その中のファイルを結合してくれます)<br>\n",
    "※xlsxのみ読み取りに対応しています。①でtxtをあらかじめ変更しておきましょう<br>\n",
    "※データは再利用できるので、極力GIS上で結合しましょう(重い場合はこちらを利用してください)\n",
    "\n",
    "---\n",
    "↓このセルから実行↓"
   ]
  },
  {
   "cell_type": "code",
   "execution_count": null,
   "metadata": {},
   "outputs": [],
   "source": [
    "xlsx_path = \"./statistics_merge/*xlsx\" #パスでエラーが出たらここを変えてください\n",
    "stats_path = \"./statistics_merge\"\n",
    "xlsx_df_list = [os.path.splitext(os.path.basename(file))[0] for file in glob.glob(xlsx_path)]\n",
    "if len(xlsx_df_list) <= 1:\n",
    "    print(\"【警告】2つ以上のデータをファイルに入れてください\")\n",
    "else:\n",
    "    print(xlsx_df_list) #ファイルがすべて入っているか確認しよう\n",
    "#確認出来たら下のセルを実行しよう\n"
   ]
  },
  {
   "cell_type": "code",
   "execution_count": null,
   "metadata": {},
   "outputs": [],
   "source": [
    "merge_df = pd.DataFrame()\n",
    "merge_name = input(\"出力ファイルの名前を入力してください\")\n",
    "i = 0\n",
    "for file_name in xlsx_df_list:\n",
    "    i += 1\n",
    "    df = pd.read_excel(f\"{stats_path}/{file_name}.xlsx\")\n",
    "    merge_df = pd.concat([merge_df,df],axis=0,ignore_index=True)\n",
    "    print(f\"{i}/{len(xlsx_df_list)} {file_name}を結合しました\")\n",
    "merge_df.to_excel(f'{stats_path}/{merge_name}.xlsx', index=False)\n",
    "print(\"全ファイル結合完了しました！\")\n"
   ]
  },
  {
   "cell_type": "code",
   "execution_count": null,
   "metadata": {},
   "outputs": [],
   "source": []
  },
  {
   "cell_type": "code",
   "execution_count": null,
   "metadata": {},
   "outputs": [],
   "source": []
  }
 ],
 "metadata": {
  "kernelspec": {
   "display_name": "gis_workshop.env",
   "language": "python",
   "name": "python3"
  },
  "language_info": {
   "codemirror_mode": {
    "name": "ipython",
    "version": 3
   },
   "file_extension": ".py",
   "mimetype": "text/x-python",
   "name": "python",
   "nbconvert_exporter": "python",
   "pygments_lexer": "ipython3",
   "version": "3.12.2"
  }
 },
 "nbformat": 4,
 "nbformat_minor": 2
}
